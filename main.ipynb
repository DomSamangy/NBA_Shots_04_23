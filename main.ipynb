{
 "cells": [
  {
   "cell_type": "markdown",
   "metadata": {},
   "source": [
    "# 0. Import all dependencies"
   ]
  },
  {
   "cell_type": "code",
   "execution_count": 27,
   "metadata": {},
   "outputs": [],
   "source": [
    "import pandas as pd\n",
    "import numpy as np\n",
    "import matplotlib.pyplot as plt\n",
    "import seaborn as sns\n",
    "import math\n",
    "import csv\n",
    "from numerical_characteristics import DiscreteCharacteristics\n",
    "from collections import Counter\n",
    "from scipy import stats"
   ]
  },
  {
   "cell_type": "markdown",
   "metadata": {},
   "source": [
    "# 1. Data processing"
   ]
  },
  {
   "cell_type": "markdown",
   "metadata": {},
   "source": [
    "### 1.1 Read CSV"
   ]
  },
  {
   "cell_type": "code",
   "execution_count": 28,
   "metadata": {},
   "outputs": [
    {
     "data": {
      "text/html": [
       "<div>\n",
       "<style scoped>\n",
       "    .dataframe tbody tr th:only-of-type {\n",
       "        vertical-align: middle;\n",
       "    }\n",
       "\n",
       "    .dataframe tbody tr th {\n",
       "        vertical-align: top;\n",
       "    }\n",
       "\n",
       "    .dataframe thead th {\n",
       "        text-align: right;\n",
       "    }\n",
       "</style>\n",
       "<table border=\"1\" class=\"dataframe\">\n",
       "  <thead>\n",
       "    <tr style=\"text-align: right;\">\n",
       "      <th></th>\n",
       "      <th>SEASON_1</th>\n",
       "      <th>SEASON_2</th>\n",
       "      <th>TEAM_ID</th>\n",
       "      <th>TEAM_NAME</th>\n",
       "      <th>PLAYER_ID</th>\n",
       "      <th>PLAYER_NAME</th>\n",
       "      <th>POSITION_GROUP</th>\n",
       "      <th>POSITION</th>\n",
       "      <th>GAME_DATE</th>\n",
       "      <th>GAME_ID</th>\n",
       "      <th>...</th>\n",
       "      <th>BASIC_ZONE</th>\n",
       "      <th>ZONE_NAME</th>\n",
       "      <th>ZONE_ABB</th>\n",
       "      <th>ZONE_RANGE</th>\n",
       "      <th>LOC_X</th>\n",
       "      <th>LOC_Y</th>\n",
       "      <th>SHOT_DISTANCE</th>\n",
       "      <th>QUARTER</th>\n",
       "      <th>MINS_LEFT</th>\n",
       "      <th>SECS_LEFT</th>\n",
       "    </tr>\n",
       "  </thead>\n",
       "  <tbody>\n",
       "    <tr>\n",
       "      <th>0</th>\n",
       "      <td>2023</td>\n",
       "      <td>2022-23</td>\n",
       "      <td>1610612764</td>\n",
       "      <td>Washington Wizards</td>\n",
       "      <td>203078</td>\n",
       "      <td>Bradley Beal</td>\n",
       "      <td>G</td>\n",
       "      <td>SG</td>\n",
       "      <td>10-19-2022</td>\n",
       "      <td>22200004</td>\n",
       "      <td>...</td>\n",
       "      <td>Left Corner 3</td>\n",
       "      <td>Left Side</td>\n",
       "      <td>L</td>\n",
       "      <td>24+ ft.</td>\n",
       "      <td>23.4</td>\n",
       "      <td>12.95</td>\n",
       "      <td>24</td>\n",
       "      <td>1</td>\n",
       "      <td>11</td>\n",
       "      <td>20</td>\n",
       "    </tr>\n",
       "    <tr>\n",
       "      <th>1</th>\n",
       "      <td>2023</td>\n",
       "      <td>2022-23</td>\n",
       "      <td>1610612764</td>\n",
       "      <td>Washington Wizards</td>\n",
       "      <td>204001</td>\n",
       "      <td>Kristaps Porzingis</td>\n",
       "      <td>C</td>\n",
       "      <td>C</td>\n",
       "      <td>10-19-2022</td>\n",
       "      <td>22200004</td>\n",
       "      <td>...</td>\n",
       "      <td>Above the Break 3</td>\n",
       "      <td>Center</td>\n",
       "      <td>C</td>\n",
       "      <td>24+ ft.</td>\n",
       "      <td>-0.4</td>\n",
       "      <td>31.45</td>\n",
       "      <td>26</td>\n",
       "      <td>1</td>\n",
       "      <td>10</td>\n",
       "      <td>52</td>\n",
       "    </tr>\n",
       "    <tr>\n",
       "      <th>2</th>\n",
       "      <td>2023</td>\n",
       "      <td>2022-23</td>\n",
       "      <td>1610612764</td>\n",
       "      <td>Washington Wizards</td>\n",
       "      <td>1628420</td>\n",
       "      <td>Monte Morris</td>\n",
       "      <td>G</td>\n",
       "      <td>PG</td>\n",
       "      <td>10-19-2022</td>\n",
       "      <td>22200004</td>\n",
       "      <td>...</td>\n",
       "      <td>Restricted Area</td>\n",
       "      <td>Center</td>\n",
       "      <td>C</td>\n",
       "      <td>Less Than 8 ft.</td>\n",
       "      <td>-1.3</td>\n",
       "      <td>5.25</td>\n",
       "      <td>1</td>\n",
       "      <td>1</td>\n",
       "      <td>10</td>\n",
       "      <td>39</td>\n",
       "    </tr>\n",
       "    <tr>\n",
       "      <th>3</th>\n",
       "      <td>2023</td>\n",
       "      <td>2022-23</td>\n",
       "      <td>1610612764</td>\n",
       "      <td>Washington Wizards</td>\n",
       "      <td>204001</td>\n",
       "      <td>Kristaps Porzingis</td>\n",
       "      <td>C</td>\n",
       "      <td>C</td>\n",
       "      <td>10-19-2022</td>\n",
       "      <td>22200004</td>\n",
       "      <td>...</td>\n",
       "      <td>Restricted Area</td>\n",
       "      <td>Center</td>\n",
       "      <td>C</td>\n",
       "      <td>Less Than 8 ft.</td>\n",
       "      <td>-0.1</td>\n",
       "      <td>7.25</td>\n",
       "      <td>2</td>\n",
       "      <td>1</td>\n",
       "      <td>10</td>\n",
       "      <td>31</td>\n",
       "    </tr>\n",
       "    <tr>\n",
       "      <th>4</th>\n",
       "      <td>2023</td>\n",
       "      <td>2022-23</td>\n",
       "      <td>1610612764</td>\n",
       "      <td>Washington Wizards</td>\n",
       "      <td>1630166</td>\n",
       "      <td>Deni Avdija</td>\n",
       "      <td>F</td>\n",
       "      <td>SF</td>\n",
       "      <td>10-19-2022</td>\n",
       "      <td>22200004</td>\n",
       "      <td>...</td>\n",
       "      <td>Restricted Area</td>\n",
       "      <td>Center</td>\n",
       "      <td>C</td>\n",
       "      <td>Less Than 8 ft.</td>\n",
       "      <td>1.8</td>\n",
       "      <td>7.15</td>\n",
       "      <td>2</td>\n",
       "      <td>1</td>\n",
       "      <td>10</td>\n",
       "      <td>5</td>\n",
       "    </tr>\n",
       "    <tr>\n",
       "      <th>...</th>\n",
       "      <td>...</td>\n",
       "      <td>...</td>\n",
       "      <td>...</td>\n",
       "      <td>...</td>\n",
       "      <td>...</td>\n",
       "      <td>...</td>\n",
       "      <td>...</td>\n",
       "      <td>...</td>\n",
       "      <td>...</td>\n",
       "      <td>...</td>\n",
       "      <td>...</td>\n",
       "      <td>...</td>\n",
       "      <td>...</td>\n",
       "      <td>...</td>\n",
       "      <td>...</td>\n",
       "      <td>...</td>\n",
       "      <td>...</td>\n",
       "      <td>...</td>\n",
       "      <td>...</td>\n",
       "      <td>...</td>\n",
       "      <td>...</td>\n",
       "    </tr>\n",
       "    <tr>\n",
       "      <th>4012556</th>\n",
       "      <td>2004</td>\n",
       "      <td>2003-04</td>\n",
       "      <td>1610612755</td>\n",
       "      <td>Philadelphia 76ers</td>\n",
       "      <td>2422</td>\n",
       "      <td>John Salmons</td>\n",
       "      <td>G</td>\n",
       "      <td>SG</td>\n",
       "      <td>10-28-2003</td>\n",
       "      <td>20300001</td>\n",
       "      <td>...</td>\n",
       "      <td>Left Corner 3</td>\n",
       "      <td>Left Side</td>\n",
       "      <td>L</td>\n",
       "      <td>24+ ft.</td>\n",
       "      <td>23.3</td>\n",
       "      <td>9.55</td>\n",
       "      <td>23</td>\n",
       "      <td>1</td>\n",
       "      <td>11</td>\n",
       "      <td>21</td>\n",
       "    </tr>\n",
       "    <tr>\n",
       "      <th>4012557</th>\n",
       "      <td>2004</td>\n",
       "      <td>2003-04</td>\n",
       "      <td>1610612759</td>\n",
       "      <td>San Antonio Spurs</td>\n",
       "      <td>1938</td>\n",
       "      <td>Manu Ginobili</td>\n",
       "      <td>G</td>\n",
       "      <td>SG</td>\n",
       "      <td>10-28-2003</td>\n",
       "      <td>20300002</td>\n",
       "      <td>...</td>\n",
       "      <td>Above the Break 3</td>\n",
       "      <td>Left Side Center</td>\n",
       "      <td>LC</td>\n",
       "      <td>24+ ft.</td>\n",
       "      <td>15.1</td>\n",
       "      <td>25.85</td>\n",
       "      <td>25</td>\n",
       "      <td>1</td>\n",
       "      <td>11</td>\n",
       "      <td>24</td>\n",
       "    </tr>\n",
       "    <tr>\n",
       "      <th>4012558</th>\n",
       "      <td>2004</td>\n",
       "      <td>2003-04</td>\n",
       "      <td>1610612747</td>\n",
       "      <td>Los Angeles Lakers</td>\n",
       "      <td>406</td>\n",
       "      <td>Shaquille O'Neal</td>\n",
       "      <td>C</td>\n",
       "      <td>C</td>\n",
       "      <td>10-28-2003</td>\n",
       "      <td>20300003</td>\n",
       "      <td>...</td>\n",
       "      <td>In The Paint (Non-RA)</td>\n",
       "      <td>Center</td>\n",
       "      <td>C</td>\n",
       "      <td>Less Than 8 ft.</td>\n",
       "      <td>-4.7</td>\n",
       "      <td>9.85</td>\n",
       "      <td>6</td>\n",
       "      <td>1</td>\n",
       "      <td>11</td>\n",
       "      <td>39</td>\n",
       "    </tr>\n",
       "    <tr>\n",
       "      <th>4012559</th>\n",
       "      <td>2004</td>\n",
       "      <td>2003-04</td>\n",
       "      <td>1610612756</td>\n",
       "      <td>Phoenix Suns</td>\n",
       "      <td>2063</td>\n",
       "      <td>Jake Voskuhl</td>\n",
       "      <td>C</td>\n",
       "      <td>C</td>\n",
       "      <td>10-28-2003</td>\n",
       "      <td>20300002</td>\n",
       "      <td>...</td>\n",
       "      <td>Restricted Area</td>\n",
       "      <td>Center</td>\n",
       "      <td>C</td>\n",
       "      <td>Less Than 8 ft.</td>\n",
       "      <td>-2.3</td>\n",
       "      <td>6.05</td>\n",
       "      <td>2</td>\n",
       "      <td>1</td>\n",
       "      <td>11</td>\n",
       "      <td>42</td>\n",
       "    </tr>\n",
       "    <tr>\n",
       "      <th>4012560</th>\n",
       "      <td>2004</td>\n",
       "      <td>2003-04</td>\n",
       "      <td>1610612748</td>\n",
       "      <td>Miami Heat</td>\n",
       "      <td>2548</td>\n",
       "      <td>Dwyane Wade</td>\n",
       "      <td>G</td>\n",
       "      <td>PG</td>\n",
       "      <td>10-28-2003</td>\n",
       "      <td>20300001</td>\n",
       "      <td>...</td>\n",
       "      <td>Restricted Area</td>\n",
       "      <td>Center</td>\n",
       "      <td>C</td>\n",
       "      <td>Less Than 8 ft.</td>\n",
       "      <td>-0.0</td>\n",
       "      <td>5.25</td>\n",
       "      <td>0</td>\n",
       "      <td>1</td>\n",
       "      <td>11</td>\n",
       "      <td>48</td>\n",
       "    </tr>\n",
       "  </tbody>\n",
       "</table>\n",
       "<p>4012561 rows × 26 columns</p>\n",
       "</div>"
      ],
      "text/plain": [
       "         SEASON_1 SEASON_2     TEAM_ID           TEAM_NAME  PLAYER_ID  \\\n",
       "0            2023  2022-23  1610612764  Washington Wizards     203078   \n",
       "1            2023  2022-23  1610612764  Washington Wizards     204001   \n",
       "2            2023  2022-23  1610612764  Washington Wizards    1628420   \n",
       "3            2023  2022-23  1610612764  Washington Wizards     204001   \n",
       "4            2023  2022-23  1610612764  Washington Wizards    1630166   \n",
       "...           ...      ...         ...                 ...        ...   \n",
       "4012556      2004  2003-04  1610612755  Philadelphia 76ers       2422   \n",
       "4012557      2004  2003-04  1610612759   San Antonio Spurs       1938   \n",
       "4012558      2004  2003-04  1610612747  Los Angeles Lakers        406   \n",
       "4012559      2004  2003-04  1610612756        Phoenix Suns       2063   \n",
       "4012560      2004  2003-04  1610612748          Miami Heat       2548   \n",
       "\n",
       "                PLAYER_NAME POSITION_GROUP POSITION   GAME_DATE   GAME_ID  \\\n",
       "0              Bradley Beal              G       SG  10-19-2022  22200004   \n",
       "1        Kristaps Porzingis              C        C  10-19-2022  22200004   \n",
       "2              Monte Morris              G       PG  10-19-2022  22200004   \n",
       "3        Kristaps Porzingis              C        C  10-19-2022  22200004   \n",
       "4               Deni Avdija              F       SF  10-19-2022  22200004   \n",
       "...                     ...            ...      ...         ...       ...   \n",
       "4012556        John Salmons              G       SG  10-28-2003  20300001   \n",
       "4012557       Manu Ginobili              G       SG  10-28-2003  20300002   \n",
       "4012558    Shaquille O'Neal              C        C  10-28-2003  20300003   \n",
       "4012559        Jake Voskuhl              C        C  10-28-2003  20300002   \n",
       "4012560         Dwyane Wade              G       PG  10-28-2003  20300001   \n",
       "\n",
       "         ...             BASIC_ZONE         ZONE_NAME ZONE_ABB  \\\n",
       "0        ...          Left Corner 3         Left Side        L   \n",
       "1        ...      Above the Break 3            Center        C   \n",
       "2        ...        Restricted Area            Center        C   \n",
       "3        ...        Restricted Area            Center        C   \n",
       "4        ...        Restricted Area            Center        C   \n",
       "...      ...                    ...               ...      ...   \n",
       "4012556  ...          Left Corner 3         Left Side        L   \n",
       "4012557  ...      Above the Break 3  Left Side Center       LC   \n",
       "4012558  ...  In The Paint (Non-RA)            Center        C   \n",
       "4012559  ...        Restricted Area            Center        C   \n",
       "4012560  ...        Restricted Area            Center        C   \n",
       "\n",
       "              ZONE_RANGE LOC_X  LOC_Y SHOT_DISTANCE QUARTER MINS_LEFT  \\\n",
       "0                24+ ft.  23.4  12.95            24       1        11   \n",
       "1                24+ ft.  -0.4  31.45            26       1        10   \n",
       "2        Less Than 8 ft.  -1.3   5.25             1       1        10   \n",
       "3        Less Than 8 ft.  -0.1   7.25             2       1        10   \n",
       "4        Less Than 8 ft.   1.8   7.15             2       1        10   \n",
       "...                  ...   ...    ...           ...     ...       ...   \n",
       "4012556          24+ ft.  23.3   9.55            23       1        11   \n",
       "4012557          24+ ft.  15.1  25.85            25       1        11   \n",
       "4012558  Less Than 8 ft.  -4.7   9.85             6       1        11   \n",
       "4012559  Less Than 8 ft.  -2.3   6.05             2       1        11   \n",
       "4012560  Less Than 8 ft.  -0.0   5.25             0       1        11   \n",
       "\n",
       "        SECS_LEFT  \n",
       "0              20  \n",
       "1              52  \n",
       "2              39  \n",
       "3              31  \n",
       "4               5  \n",
       "...           ...  \n",
       "4012556        21  \n",
       "4012557        24  \n",
       "4012558        39  \n",
       "4012559        42  \n",
       "4012560        48  \n",
       "\n",
       "[4012561 rows x 26 columns]"
      ]
     },
     "execution_count": 28,
     "metadata": {},
     "output_type": "execute_result"
    }
   ],
   "source": [
    "df = pd.read_csv('NBA_2004_2023_Shots.csv')\n",
    "df"
   ]
  },
  {
   "cell_type": "markdown",
   "metadata": {},
   "source": [
    "### 1.2 Select needed data"
   ]
  },
  {
   "cell_type": "code",
   "execution_count": 29,
   "metadata": {},
   "outputs": [
    {
     "data": {
      "text/html": [
       "<div>\n",
       "<style scoped>\n",
       "    .dataframe tbody tr th:only-of-type {\n",
       "        vertical-align: middle;\n",
       "    }\n",
       "\n",
       "    .dataframe tbody tr th {\n",
       "        vertical-align: top;\n",
       "    }\n",
       "\n",
       "    .dataframe thead th {\n",
       "        text-align: right;\n",
       "    }\n",
       "</style>\n",
       "<table border=\"1\" class=\"dataframe\">\n",
       "  <thead>\n",
       "    <tr style=\"text-align: right;\">\n",
       "      <th></th>\n",
       "      <th>SEASON_1</th>\n",
       "      <th>SEASON_2</th>\n",
       "      <th>TEAM_ID</th>\n",
       "      <th>TEAM_NAME</th>\n",
       "      <th>PLAYER_ID</th>\n",
       "      <th>PLAYER_NAME</th>\n",
       "      <th>POSITION_GROUP</th>\n",
       "      <th>POSITION</th>\n",
       "      <th>GAME_DATE</th>\n",
       "      <th>GAME_ID</th>\n",
       "      <th>...</th>\n",
       "      <th>BASIC_ZONE</th>\n",
       "      <th>ZONE_NAME</th>\n",
       "      <th>ZONE_ABB</th>\n",
       "      <th>ZONE_RANGE</th>\n",
       "      <th>LOC_X</th>\n",
       "      <th>LOC_Y</th>\n",
       "      <th>SHOT_DISTANCE</th>\n",
       "      <th>QUARTER</th>\n",
       "      <th>MINS_LEFT</th>\n",
       "      <th>SECS_LEFT</th>\n",
       "    </tr>\n",
       "  </thead>\n",
       "  <tbody>\n",
       "    <tr>\n",
       "      <th>116365</th>\n",
       "      <td>2023</td>\n",
       "      <td>2022-23</td>\n",
       "      <td>1610612747</td>\n",
       "      <td>Los Angeles Lakers</td>\n",
       "      <td>201566</td>\n",
       "      <td>Russell Westbrook</td>\n",
       "      <td>G</td>\n",
       "      <td>PG</td>\n",
       "      <td>10-18-2022</td>\n",
       "      <td>22200002</td>\n",
       "      <td>...</td>\n",
       "      <td>Restricted Area</td>\n",
       "      <td>Center</td>\n",
       "      <td>C</td>\n",
       "      <td>Less Than 8 ft.</td>\n",
       "      <td>2.1</td>\n",
       "      <td>6.95</td>\n",
       "      <td>2</td>\n",
       "      <td>1</td>\n",
       "      <td>7</td>\n",
       "      <td>40</td>\n",
       "    </tr>\n",
       "    <tr>\n",
       "      <th>116366</th>\n",
       "      <td>2023</td>\n",
       "      <td>2022-23</td>\n",
       "      <td>1610612747</td>\n",
       "      <td>Los Angeles Lakers</td>\n",
       "      <td>201566</td>\n",
       "      <td>Russell Westbrook</td>\n",
       "      <td>G</td>\n",
       "      <td>PG</td>\n",
       "      <td>10-18-2022</td>\n",
       "      <td>22200002</td>\n",
       "      <td>...</td>\n",
       "      <td>Above the Break 3</td>\n",
       "      <td>Center</td>\n",
       "      <td>C</td>\n",
       "      <td>24+ ft.</td>\n",
       "      <td>-7.0</td>\n",
       "      <td>29.35</td>\n",
       "      <td>25</td>\n",
       "      <td>1</td>\n",
       "      <td>6</td>\n",
       "      <td>59</td>\n",
       "    </tr>\n",
       "    <tr>\n",
       "      <th>116375</th>\n",
       "      <td>2023</td>\n",
       "      <td>2022-23</td>\n",
       "      <td>1610612747</td>\n",
       "      <td>Los Angeles Lakers</td>\n",
       "      <td>201566</td>\n",
       "      <td>Russell Westbrook</td>\n",
       "      <td>G</td>\n",
       "      <td>PG</td>\n",
       "      <td>10-18-2022</td>\n",
       "      <td>22200002</td>\n",
       "      <td>...</td>\n",
       "      <td>Restricted Area</td>\n",
       "      <td>Center</td>\n",
       "      <td>C</td>\n",
       "      <td>Less Than 8 ft.</td>\n",
       "      <td>-0.9</td>\n",
       "      <td>6.55</td>\n",
       "      <td>1</td>\n",
       "      <td>1</td>\n",
       "      <td>1</td>\n",
       "      <td>43</td>\n",
       "    </tr>\n",
       "    <tr>\n",
       "      <th>116395</th>\n",
       "      <td>2023</td>\n",
       "      <td>2022-23</td>\n",
       "      <td>1610612747</td>\n",
       "      <td>Los Angeles Lakers</td>\n",
       "      <td>201566</td>\n",
       "      <td>Russell Westbrook</td>\n",
       "      <td>G</td>\n",
       "      <td>PG</td>\n",
       "      <td>10-18-2022</td>\n",
       "      <td>22200002</td>\n",
       "      <td>...</td>\n",
       "      <td>In The Paint (Non-RA)</td>\n",
       "      <td>Center</td>\n",
       "      <td>C</td>\n",
       "      <td>Less Than 8 ft.</td>\n",
       "      <td>4.7</td>\n",
       "      <td>11.45</td>\n",
       "      <td>7</td>\n",
       "      <td>2</td>\n",
       "      <td>4</td>\n",
       "      <td>59</td>\n",
       "    </tr>\n",
       "    <tr>\n",
       "      <th>116396</th>\n",
       "      <td>2023</td>\n",
       "      <td>2022-23</td>\n",
       "      <td>1610612747</td>\n",
       "      <td>Los Angeles Lakers</td>\n",
       "      <td>201566</td>\n",
       "      <td>Russell Westbrook</td>\n",
       "      <td>G</td>\n",
       "      <td>PG</td>\n",
       "      <td>10-18-2022</td>\n",
       "      <td>22200002</td>\n",
       "      <td>...</td>\n",
       "      <td>Restricted Area</td>\n",
       "      <td>Center</td>\n",
       "      <td>C</td>\n",
       "      <td>Less Than 8 ft.</td>\n",
       "      <td>0.7</td>\n",
       "      <td>6.25</td>\n",
       "      <td>1</td>\n",
       "      <td>2</td>\n",
       "      <td>4</td>\n",
       "      <td>40</td>\n",
       "    </tr>\n",
       "    <tr>\n",
       "      <th>...</th>\n",
       "      <td>...</td>\n",
       "      <td>...</td>\n",
       "      <td>...</td>\n",
       "      <td>...</td>\n",
       "      <td>...</td>\n",
       "      <td>...</td>\n",
       "      <td>...</td>\n",
       "      <td>...</td>\n",
       "      <td>...</td>\n",
       "      <td>...</td>\n",
       "      <td>...</td>\n",
       "      <td>...</td>\n",
       "      <td>...</td>\n",
       "      <td>...</td>\n",
       "      <td>...</td>\n",
       "      <td>...</td>\n",
       "      <td>...</td>\n",
       "      <td>...</td>\n",
       "      <td>...</td>\n",
       "      <td>...</td>\n",
       "      <td>...</td>\n",
       "    </tr>\n",
       "    <tr>\n",
       "      <th>3032069</th>\n",
       "      <td>2009</td>\n",
       "      <td>2008-09</td>\n",
       "      <td>1610612760</td>\n",
       "      <td>Oklahoma City Thunder</td>\n",
       "      <td>201566</td>\n",
       "      <td>Russell Westbrook</td>\n",
       "      <td>G</td>\n",
       "      <td>PG</td>\n",
       "      <td>10-29-2008</td>\n",
       "      <td>20800010</td>\n",
       "      <td>...</td>\n",
       "      <td>Restricted Area</td>\n",
       "      <td>Center</td>\n",
       "      <td>C</td>\n",
       "      <td>Less Than 8 ft.</td>\n",
       "      <td>-0.0</td>\n",
       "      <td>5.25</td>\n",
       "      <td>0</td>\n",
       "      <td>4</td>\n",
       "      <td>8</td>\n",
       "      <td>52</td>\n",
       "    </tr>\n",
       "    <tr>\n",
       "      <th>3032078</th>\n",
       "      <td>2009</td>\n",
       "      <td>2008-09</td>\n",
       "      <td>1610612760</td>\n",
       "      <td>Oklahoma City Thunder</td>\n",
       "      <td>201566</td>\n",
       "      <td>Russell Westbrook</td>\n",
       "      <td>G</td>\n",
       "      <td>PG</td>\n",
       "      <td>10-29-2008</td>\n",
       "      <td>20800010</td>\n",
       "      <td>...</td>\n",
       "      <td>Mid-Range</td>\n",
       "      <td>Left Side</td>\n",
       "      <td>L</td>\n",
       "      <td>8-16 ft.</td>\n",
       "      <td>12.5</td>\n",
       "      <td>13.05</td>\n",
       "      <td>14</td>\n",
       "      <td>4</td>\n",
       "      <td>9</td>\n",
       "      <td>34</td>\n",
       "    </tr>\n",
       "    <tr>\n",
       "      <th>3032809</th>\n",
       "      <td>2009</td>\n",
       "      <td>2008-09</td>\n",
       "      <td>1610612760</td>\n",
       "      <td>Oklahoma City Thunder</td>\n",
       "      <td>201566</td>\n",
       "      <td>Russell Westbrook</td>\n",
       "      <td>G</td>\n",
       "      <td>PG</td>\n",
       "      <td>10-29-2008</td>\n",
       "      <td>20800010</td>\n",
       "      <td>...</td>\n",
       "      <td>Restricted Area</td>\n",
       "      <td>Center</td>\n",
       "      <td>C</td>\n",
       "      <td>Less Than 8 ft.</td>\n",
       "      <td>-0.0</td>\n",
       "      <td>5.25</td>\n",
       "      <td>0</td>\n",
       "      <td>2</td>\n",
       "      <td>3</td>\n",
       "      <td>48</td>\n",
       "    </tr>\n",
       "    <tr>\n",
       "      <th>3032960</th>\n",
       "      <td>2009</td>\n",
       "      <td>2008-09</td>\n",
       "      <td>1610612760</td>\n",
       "      <td>Oklahoma City Thunder</td>\n",
       "      <td>201566</td>\n",
       "      <td>Russell Westbrook</td>\n",
       "      <td>G</td>\n",
       "      <td>PG</td>\n",
       "      <td>10-29-2008</td>\n",
       "      <td>20800010</td>\n",
       "      <td>...</td>\n",
       "      <td>Restricted Area</td>\n",
       "      <td>Center</td>\n",
       "      <td>C</td>\n",
       "      <td>Less Than 8 ft.</td>\n",
       "      <td>-0.0</td>\n",
       "      <td>5.25</td>\n",
       "      <td>0</td>\n",
       "      <td>2</td>\n",
       "      <td>6</td>\n",
       "      <td>21</td>\n",
       "    </tr>\n",
       "    <tr>\n",
       "      <th>3033088</th>\n",
       "      <td>2009</td>\n",
       "      <td>2008-09</td>\n",
       "      <td>1610612760</td>\n",
       "      <td>Oklahoma City Thunder</td>\n",
       "      <td>201566</td>\n",
       "      <td>Russell Westbrook</td>\n",
       "      <td>G</td>\n",
       "      <td>PG</td>\n",
       "      <td>10-29-2008</td>\n",
       "      <td>20800010</td>\n",
       "      <td>...</td>\n",
       "      <td>Mid-Range</td>\n",
       "      <td>Center</td>\n",
       "      <td>C</td>\n",
       "      <td>16-24 ft.</td>\n",
       "      <td>3.7</td>\n",
       "      <td>23.65</td>\n",
       "      <td>18</td>\n",
       "      <td>2</td>\n",
       "      <td>9</td>\n",
       "      <td>3</td>\n",
       "    </tr>\n",
       "  </tbody>\n",
       "</table>\n",
       "<p>19994 rows × 26 columns</p>\n",
       "</div>"
      ],
      "text/plain": [
       "         SEASON_1 SEASON_2     TEAM_ID              TEAM_NAME  PLAYER_ID  \\\n",
       "116365       2023  2022-23  1610612747     Los Angeles Lakers     201566   \n",
       "116366       2023  2022-23  1610612747     Los Angeles Lakers     201566   \n",
       "116375       2023  2022-23  1610612747     Los Angeles Lakers     201566   \n",
       "116395       2023  2022-23  1610612747     Los Angeles Lakers     201566   \n",
       "116396       2023  2022-23  1610612747     Los Angeles Lakers     201566   \n",
       "...           ...      ...         ...                    ...        ...   \n",
       "3032069      2009  2008-09  1610612760  Oklahoma City Thunder     201566   \n",
       "3032078      2009  2008-09  1610612760  Oklahoma City Thunder     201566   \n",
       "3032809      2009  2008-09  1610612760  Oklahoma City Thunder     201566   \n",
       "3032960      2009  2008-09  1610612760  Oklahoma City Thunder     201566   \n",
       "3033088      2009  2008-09  1610612760  Oklahoma City Thunder     201566   \n",
       "\n",
       "               PLAYER_NAME POSITION_GROUP POSITION   GAME_DATE   GAME_ID  ...  \\\n",
       "116365   Russell Westbrook              G       PG  10-18-2022  22200002  ...   \n",
       "116366   Russell Westbrook              G       PG  10-18-2022  22200002  ...   \n",
       "116375   Russell Westbrook              G       PG  10-18-2022  22200002  ...   \n",
       "116395   Russell Westbrook              G       PG  10-18-2022  22200002  ...   \n",
       "116396   Russell Westbrook              G       PG  10-18-2022  22200002  ...   \n",
       "...                    ...            ...      ...         ...       ...  ...   \n",
       "3032069  Russell Westbrook              G       PG  10-29-2008  20800010  ...   \n",
       "3032078  Russell Westbrook              G       PG  10-29-2008  20800010  ...   \n",
       "3032809  Russell Westbrook              G       PG  10-29-2008  20800010  ...   \n",
       "3032960  Russell Westbrook              G       PG  10-29-2008  20800010  ...   \n",
       "3033088  Russell Westbrook              G       PG  10-29-2008  20800010  ...   \n",
       "\n",
       "                    BASIC_ZONE  ZONE_NAME ZONE_ABB       ZONE_RANGE LOC_X  \\\n",
       "116365         Restricted Area     Center        C  Less Than 8 ft.   2.1   \n",
       "116366       Above the Break 3     Center        C          24+ ft.  -7.0   \n",
       "116375         Restricted Area     Center        C  Less Than 8 ft.  -0.9   \n",
       "116395   In The Paint (Non-RA)     Center        C  Less Than 8 ft.   4.7   \n",
       "116396         Restricted Area     Center        C  Less Than 8 ft.   0.7   \n",
       "...                        ...        ...      ...              ...   ...   \n",
       "3032069        Restricted Area     Center        C  Less Than 8 ft.  -0.0   \n",
       "3032078              Mid-Range  Left Side        L         8-16 ft.  12.5   \n",
       "3032809        Restricted Area     Center        C  Less Than 8 ft.  -0.0   \n",
       "3032960        Restricted Area     Center        C  Less Than 8 ft.  -0.0   \n",
       "3033088              Mid-Range     Center        C        16-24 ft.   3.7   \n",
       "\n",
       "         LOC_Y SHOT_DISTANCE QUARTER MINS_LEFT SECS_LEFT  \n",
       "116365    6.95             2       1         7        40  \n",
       "116366   29.35            25       1         6        59  \n",
       "116375    6.55             1       1         1        43  \n",
       "116395   11.45             7       2         4        59  \n",
       "116396    6.25             1       2         4        40  \n",
       "...        ...           ...     ...       ...       ...  \n",
       "3032069   5.25             0       4         8        52  \n",
       "3032078  13.05            14       4         9        34  \n",
       "3032809   5.25             0       2         3        48  \n",
       "3032960   5.25             0       2         6        21  \n",
       "3033088  23.65            18       2         9         3  \n",
       "\n",
       "[19994 rows x 26 columns]"
      ]
     },
     "execution_count": 29,
     "metadata": {},
     "output_type": "execute_result"
    }
   ],
   "source": [
    "westbrook = df[df['PLAYER_NAME'] == 'Russell Westbrook']\n",
    "westbrook"
   ]
  },
  {
   "cell_type": "code",
   "execution_count": 30,
   "metadata": {},
   "outputs": [
    {
     "data": {
      "text/plain": [
       "Index(['SEASON_1', 'SEASON_2', 'TEAM_ID', 'TEAM_NAME', 'PLAYER_ID',\n",
       "       'PLAYER_NAME', 'POSITION_GROUP', 'POSITION', 'GAME_DATE', 'GAME_ID',\n",
       "       'HOME_TEAM', 'AWAY_TEAM', 'EVENT_TYPE', 'SHOT_MADE', 'ACTION_TYPE',\n",
       "       'SHOT_TYPE', 'BASIC_ZONE', 'ZONE_NAME', 'ZONE_ABB', 'ZONE_RANGE',\n",
       "       'LOC_X', 'LOC_Y', 'SHOT_DISTANCE', 'QUARTER', 'MINS_LEFT', 'SECS_LEFT'],\n",
       "      dtype='object')"
      ]
     },
     "execution_count": 30,
     "metadata": {},
     "output_type": "execute_result"
    }
   ],
   "source": [
    "westbrook.columns"
   ]
  },
  {
   "cell_type": "markdown",
   "metadata": {},
   "source": [
    "# 2. Calculate probability"
   ]
  },
  {
   "cell_type": "markdown",
   "metadata": {},
   "source": [
    "### 2.1 Count all occurrences"
   ]
  },
  {
   "cell_type": "code",
   "execution_count": 31,
   "metadata": {},
   "outputs": [
    {
     "data": {
      "text/plain": [
       "{0: 2514,\n",
       " 1: 2606,\n",
       " 2: 1724,\n",
       " 3: 713,\n",
       " 4: 452,\n",
       " 5: 374,\n",
       " 6: 304,\n",
       " 7: 279,\n",
       " 8: 254,\n",
       " 9: 304,\n",
       " 10: 331,\n",
       " 11: 395,\n",
       " 12: 436,\n",
       " 13: 571,\n",
       " 14: 592,\n",
       " 15: 687,\n",
       " 16: 788,\n",
       " 17: 778,\n",
       " 18: 727,\n",
       " 19: 561,\n",
       " 20: 314,\n",
       " 21: 174,\n",
       " 22: 228,\n",
       " 23: 328,\n",
       " 24: 1305,\n",
       " 25: 1229,\n",
       " 26: 580,\n",
       " 27: 230,\n",
       " 28: 96,\n",
       " 29: 39,\n",
       " 30: 20,\n",
       " 31: 9,\n",
       " 32: 5,\n",
       " 33: 3,\n",
       " 34: 5,\n",
       " 35: 4,\n",
       " 36: 5,\n",
       " 37: 3,\n",
       " 38: 1,\n",
       " 39: 2,\n",
       " 40: 3,\n",
       " 41: 2,\n",
       " 42: 2,\n",
       " 43: 2,\n",
       " 44: 1,\n",
       " 46: 1,\n",
       " 49: 2,\n",
       " 50: 1,\n",
       " 51: 3,\n",
       " 52: 2,\n",
       " 53: 1,\n",
       " 64: 1,\n",
       " 68: 1,\n",
       " 69: 1,\n",
       " 77: 1}"
      ]
     },
     "execution_count": 31,
     "metadata": {},
     "output_type": "execute_result"
    }
   ],
   "source": [
    "distance = Counter(westbrook['SHOT_DISTANCE'])\n",
    "distance = dict(distance)\n",
    "distance = dict(sorted(distance.items()))\n",
    "distance"
   ]
  },
  {
   "cell_type": "markdown",
   "metadata": {},
   "source": [
    "### 2.2 Make a dict with values and probabilities"
   ]
  },
  {
   "cell_type": "code",
   "execution_count": 32,
   "metadata": {},
   "outputs": [],
   "source": [
    "#fga = field goal attempts\n",
    "fga = len(westbrook['SHOT_DISTANCE'])\n"
   ]
  },
  {
   "cell_type": "code",
   "execution_count": 33,
   "metadata": {},
   "outputs": [
    {
     "data": {
      "text/plain": [
       "{0: 0.12574,\n",
       " 1: 0.13034,\n",
       " 2: 0.08623,\n",
       " 3: 0.03566,\n",
       " 4: 0.02261,\n",
       " 5: 0.01871,\n",
       " 6: 0.0152,\n",
       " 7: 0.01395,\n",
       " 8: 0.0127,\n",
       " 9: 0.0152,\n",
       " 10: 0.01655,\n",
       " 11: 0.01976,\n",
       " 12: 0.02181,\n",
       " 13: 0.02856,\n",
       " 14: 0.02961,\n",
       " 15: 0.03436,\n",
       " 16: 0.03941,\n",
       " 17: 0.03891,\n",
       " 18: 0.03636,\n",
       " 19: 0.02806,\n",
       " 20: 0.0157,\n",
       " 21: 0.0087,\n",
       " 22: 0.0114,\n",
       " 23: 0.0164,\n",
       " 24: 0.06527,\n",
       " 25: 0.06147,\n",
       " 26: 0.02901,\n",
       " 27: 0.0115,\n",
       " 28: 0.0048,\n",
       " 29: 0.00195,\n",
       " 30: 0.001,\n",
       " 31: 0.00045,\n",
       " 32: 0.00025,\n",
       " 33: 0.00015,\n",
       " 34: 0.00025,\n",
       " 35: 0.0002,\n",
       " 36: 0.00025,\n",
       " 37: 0.00015,\n",
       " 38: 5e-05,\n",
       " 39: 0.0001,\n",
       " 40: 0.00015,\n",
       " 41: 0.0001,\n",
       " 42: 0.0001,\n",
       " 43: 0.0001,\n",
       " 44: 5e-05,\n",
       " 46: 5e-05,\n",
       " 49: 0.0001,\n",
       " 50: 5e-05,\n",
       " 51: 0.00015,\n",
       " 52: 0.0001,\n",
       " 53: 5e-05,\n",
       " 64: 5e-05,\n",
       " 68: 5e-05,\n",
       " 69: 5e-05,\n",
       " 77: 5e-05}"
      ]
     },
     "execution_count": 33,
     "metadata": {},
     "output_type": "execute_result"
    }
   ],
   "source": [
    "distance_probability = distance.copy()\n",
    "for key, value in distance_probability.items():\n",
    "    # do something with value\n",
    "    distance_probability[key] = round(distance[key]/fga, 5)\n",
    "distance_probability"
   ]
  },
  {
   "cell_type": "markdown",
   "metadata": {},
   "source": [
    "### 2.3 Save to CSV"
   ]
  },
  {
   "cell_type": "code",
   "execution_count": 34,
   "metadata": {},
   "outputs": [],
   "source": [
    "distribution_df = pd.DataFrame([distance_probability.keys(), distance_probability.values()])\n",
    "distribution_df = distribution_df.T\n",
    "distribution_df[0] = distribution_df[0].astype(int)\n",
    "distribution_df[1] = distribution_df[1].astype(float)\n",
    "header_list = ['X', 'P(X)']\n",
    "distribution_df.to_csv('distribution.csv', index=False, header=header_list)\n"
   ]
  },
  {
   "cell_type": "markdown",
   "metadata": {},
   "source": [
    "# 3. Numerical characteristics"
   ]
  },
  {
   "cell_type": "markdown",
   "metadata": {},
   "source": [
    "### 3.1 Create class object"
   ]
  },
  {
   "cell_type": "code",
   "execution_count": 35,
   "metadata": {},
   "outputs": [],
   "source": [
    "distance_object_to_discover = DiscreteCharacteristics(list(distance_probability.keys()), list(distance_probability.values()))"
   ]
  },
  {
   "cell_type": "markdown",
   "metadata": {},
   "source": [
    "### 3.2 Expectancy"
   ]
  },
  {
   "cell_type": "code",
   "execution_count": 36,
   "metadata": {},
   "outputs": [
    {
     "data": {
      "text/plain": [
       "11.08"
      ]
     },
     "execution_count": 36,
     "metadata": {},
     "output_type": "execute_result"
    }
   ],
   "source": [
    "expectancy = distance_object_to_discover.math_expectancy(distance_object_to_discover.value, 2)\n",
    "expectancy"
   ]
  },
  {
   "cell_type": "markdown",
   "metadata": {},
   "source": [
    "### 3.3 Dispersion"
   ]
  },
  {
   "cell_type": "code",
   "execution_count": 37,
   "metadata": {},
   "outputs": [
    {
     "data": {
      "text/plain": [
       "90.73"
      ]
     },
     "execution_count": 37,
     "metadata": {},
     "output_type": "execute_result"
    }
   ],
   "source": [
    "dispersion = distance_object_to_discover.central_moment(2, 2)\n",
    "dispersion"
   ]
  },
  {
   "cell_type": "markdown",
   "metadata": {},
   "source": [
    "### 3.4 Standard deviation (std)"
   ]
  },
  {
   "cell_type": "code",
   "execution_count": 38,
   "metadata": {},
   "outputs": [
    {
     "data": {
      "text/plain": [
       "9.53"
      ]
     },
     "execution_count": 38,
     "metadata": {},
     "output_type": "execute_result"
    }
   ],
   "source": [
    "std = distance_object_to_discover.standard_deviation(2)\n",
    "std"
   ]
  },
  {
   "cell_type": "markdown",
   "metadata": {},
   "source": [
    "### 3.5 Moment-generating function"
   ]
  },
  {
   "cell_type": "code",
   "execution_count": 39,
   "metadata": {},
   "outputs": [
    {
     "data": {
      "text/latex": [
       "$\\displaystyle 5.0 \\cdot 10^{-5} e^{77 t} + 5.0 \\cdot 10^{-5} e^{69 t} + 5.0 \\cdot 10^{-5} e^{68 t} + 5.0 \\cdot 10^{-5} e^{64 t} + 5.0 \\cdot 10^{-5} e^{53 t} + 0.0001 e^{52 t} + 0.00015 e^{51 t} + 5.0 \\cdot 10^{-5} e^{50 t} + 0.0001 e^{49 t} + 5.0 \\cdot 10^{-5} e^{46 t} + 5.0 \\cdot 10^{-5} e^{44 t} + 0.0001 e^{43 t} + 0.0001 e^{42 t} + 0.0001 e^{41 t} + 0.00015 e^{40 t} + 0.0001 e^{39 t} + 5.0 \\cdot 10^{-5} e^{38 t} + 0.00015 e^{37 t} + 0.00025 e^{36 t} + 0.0002 e^{35 t} + 0.00025 e^{34 t} + 0.00015 e^{33 t} + 0.00025 e^{32 t} + 0.00045 e^{31 t} + 0.001 e^{30 t} + 0.00195 e^{29 t} + 0.0048 e^{28 t} + 0.0115 e^{27 t} + 0.02901 e^{26 t} + 0.06147 e^{25 t} + 0.06527 e^{24 t} + 0.0164 e^{23 t} + 0.0114 e^{22 t} + 0.0087 e^{21 t} + 0.0157 e^{20 t} + 0.02806 e^{19 t} + 0.03636 e^{18 t} + 0.03891 e^{17 t} + 0.03941 e^{16 t} + 0.03436 e^{15 t} + 0.02961 e^{14 t} + 0.02856 e^{13 t} + 0.02181 e^{12 t} + 0.01976 e^{11 t} + 0.01655 e^{10 t} + 0.0152 e^{9 t} + 0.0127 e^{8 t} + 0.01395 e^{7 t} + 0.0152 e^{6 t} + 0.01871 e^{5 t} + 0.02261 e^{4 t} + 0.03566 e^{3 t} + 0.08623 e^{2 t} + 0.13034 e^{t} + 0.12574$"
      ],
      "text/plain": [
       "5.0e-5*exp(77*t) + 5.0e-5*exp(69*t) + 5.0e-5*exp(68*t) + 5.0e-5*exp(64*t) + 5.0e-5*exp(53*t) + 0.0001*exp(52*t) + 0.00015*exp(51*t) + 5.0e-5*exp(50*t) + 0.0001*exp(49*t) + 5.0e-5*exp(46*t) + 5.0e-5*exp(44*t) + 0.0001*exp(43*t) + 0.0001*exp(42*t) + 0.0001*exp(41*t) + 0.00015*exp(40*t) + 0.0001*exp(39*t) + 5.0e-5*exp(38*t) + 0.00015*exp(37*t) + 0.00025*exp(36*t) + 0.0002*exp(35*t) + 0.00025*exp(34*t) + 0.00015*exp(33*t) + 0.00025*exp(32*t) + 0.00045*exp(31*t) + 0.001*exp(30*t) + 0.00195*exp(29*t) + 0.0048*exp(28*t) + 0.0115*exp(27*t) + 0.02901*exp(26*t) + 0.06147*exp(25*t) + 0.06527*exp(24*t) + 0.0164*exp(23*t) + 0.0114*exp(22*t) + 0.0087*exp(21*t) + 0.0157*exp(20*t) + 0.02806*exp(19*t) + 0.03636*exp(18*t) + 0.03891*exp(17*t) + 0.03941*exp(16*t) + 0.03436*exp(15*t) + 0.02961*exp(14*t) + 0.02856*exp(13*t) + 0.02181*exp(12*t) + 0.01976*exp(11*t) + 0.01655*exp(10*t) + 0.0152*exp(9*t) + 0.0127*exp(8*t) + 0.01395*exp(7*t) + 0.0152*exp(6*t) + 0.01871*exp(5*t) + 0.02261*exp(4*t) + 0.03566*exp(3*t) + 0.08623*exp(2*t) + 0.13034*exp(t) + 0.12574"
      ]
     },
     "execution_count": 39,
     "metadata": {},
     "output_type": "execute_result"
    }
   ],
   "source": [
    "mgf = distance_object_to_discover.moment_generating_function()\n",
    "mgf"
   ]
  },
  {
   "cell_type": "markdown",
   "metadata": {},
   "source": [
    "##### 3.5.1 Calculate 1st raw moment (expectancy) using moment-generating function"
   ]
  },
  {
   "cell_type": "code",
   "execution_count": 40,
   "metadata": {},
   "outputs": [
    {
     "data": {
      "text/plain": [
       "11.08"
      ]
     },
     "execution_count": 40,
     "metadata": {},
     "output_type": "execute_result"
    }
   ],
   "source": [
    "rm_mgf = distance_object_to_discover.raw_moment_from_mgf(1, 2)\n",
    "rm_mgf"
   ]
  },
  {
   "cell_type": "markdown",
   "metadata": {},
   "source": [
    "### 3.6 Characteristic function"
   ]
  },
  {
   "cell_type": "code",
   "execution_count": 41,
   "metadata": {},
   "outputs": [
    {
     "data": {
      "text/latex": [
       "$\\displaystyle 5.0 \\cdot 10^{-5} e^{77 i t} + 5.0 \\cdot 10^{-5} e^{69 i t} + 5.0 \\cdot 10^{-5} e^{68 i t} + 5.0 \\cdot 10^{-5} e^{64 i t} + 5.0 \\cdot 10^{-5} e^{53 i t} + 0.0001 e^{52 i t} + 0.00015 e^{51 i t} + 5.0 \\cdot 10^{-5} e^{50 i t} + 0.0001 e^{49 i t} + 5.0 \\cdot 10^{-5} e^{46 i t} + 5.0 \\cdot 10^{-5} e^{44 i t} + 0.0001 e^{43 i t} + 0.0001 e^{42 i t} + 0.0001 e^{41 i t} + 0.00015 e^{40 i t} + 0.0001 e^{39 i t} + 5.0 \\cdot 10^{-5} e^{38 i t} + 0.00015 e^{37 i t} + 0.00025 e^{36 i t} + 0.0002 e^{35 i t} + 0.00025 e^{34 i t} + 0.00015 e^{33 i t} + 0.00025 e^{32 i t} + 0.00045 e^{31 i t} + 0.001 e^{30 i t} + 0.00195 e^{29 i t} + 0.0048 e^{28 i t} + 0.0115 e^{27 i t} + 0.02901 e^{26 i t} + 0.06147 e^{25 i t} + 0.06527 e^{24 i t} + 0.0164 e^{23 i t} + 0.0114 e^{22 i t} + 0.0087 e^{21 i t} + 0.0157 e^{20 i t} + 0.02806 e^{19 i t} + 0.03636 e^{18 i t} + 0.03891 e^{17 i t} + 0.03941 e^{16 i t} + 0.03436 e^{15 i t} + 0.02961 e^{14 i t} + 0.02856 e^{13 i t} + 0.02181 e^{12 i t} + 0.01976 e^{11 i t} + 0.01655 e^{10 i t} + 0.0152 e^{9 i t} + 0.0127 e^{8 i t} + 0.01395 e^{7 i t} + 0.0152 e^{6 i t} + 0.01871 e^{5 i t} + 0.02261 e^{4 i t} + 0.03566 e^{3 i t} + 0.08623 e^{2 i t} + 0.13034 e^{i t} + 0.12574$"
      ],
      "text/plain": [
       "5.0e-5*exp(77*I*t) + 5.0e-5*exp(69*I*t) + 5.0e-5*exp(68*I*t) + 5.0e-5*exp(64*I*t) + 5.0e-5*exp(53*I*t) + 0.0001*exp(52*I*t) + 0.00015*exp(51*I*t) + 5.0e-5*exp(50*I*t) + 0.0001*exp(49*I*t) + 5.0e-5*exp(46*I*t) + 5.0e-5*exp(44*I*t) + 0.0001*exp(43*I*t) + 0.0001*exp(42*I*t) + 0.0001*exp(41*I*t) + 0.00015*exp(40*I*t) + 0.0001*exp(39*I*t) + 5.0e-5*exp(38*I*t) + 0.00015*exp(37*I*t) + 0.00025*exp(36*I*t) + 0.0002*exp(35*I*t) + 0.00025*exp(34*I*t) + 0.00015*exp(33*I*t) + 0.00025*exp(32*I*t) + 0.00045*exp(31*I*t) + 0.001*exp(30*I*t) + 0.00195*exp(29*I*t) + 0.0048*exp(28*I*t) + 0.0115*exp(27*I*t) + 0.02901*exp(26*I*t) + 0.06147*exp(25*I*t) + 0.06527*exp(24*I*t) + 0.0164*exp(23*I*t) + 0.0114*exp(22*I*t) + 0.0087*exp(21*I*t) + 0.0157*exp(20*I*t) + 0.02806*exp(19*I*t) + 0.03636*exp(18*I*t) + 0.03891*exp(17*I*t) + 0.03941*exp(16*I*t) + 0.03436*exp(15*I*t) + 0.02961*exp(14*I*t) + 0.02856*exp(13*I*t) + 0.02181*exp(12*I*t) + 0.01976*exp(11*I*t) + 0.01655*exp(10*I*t) + 0.0152*exp(9*I*t) + 0.0127*exp(8*I*t) + 0.01395*exp(7*I*t) + 0.0152*exp(6*I*t) + 0.01871*exp(5*I*t) + 0.02261*exp(4*I*t) + 0.03566*exp(3*I*t) + 0.08623*exp(2*I*t) + 0.13034*exp(I*t) + 0.12574"
      ]
     },
     "execution_count": 41,
     "metadata": {},
     "output_type": "execute_result"
    }
   ],
   "source": [
    "cf = distance_object_to_discover.characteristic_function()\n",
    "cf"
   ]
  },
  {
   "cell_type": "markdown",
   "metadata": {},
   "source": [
    "##### 3.6.1 Calculate 1st raw moment (expectancy) using characteristic function"
   ]
  },
  {
   "cell_type": "code",
   "execution_count": 42,
   "metadata": {},
   "outputs": [
    {
     "data": {
      "text/plain": [
       "11.08"
      ]
     },
     "execution_count": 42,
     "metadata": {},
     "output_type": "execute_result"
    }
   ],
   "source": [
    "rm_cf = distance_object_to_discover.raw_moment_from_cf(1, 2)\n",
    "rm_cf"
   ]
  },
  {
   "cell_type": "markdown",
   "metadata": {},
   "source": [
    "### 3.7 Skewness"
   ]
  },
  {
   "cell_type": "code",
   "execution_count": 43,
   "metadata": {},
   "outputs": [
    {
     "data": {
      "text/plain": [
       "0.35"
      ]
     },
     "execution_count": 43,
     "metadata": {},
     "output_type": "execute_result"
    }
   ],
   "source": [
    "skew = distance_object_to_discover.skewness(2)\n",
    "skew"
   ]
  },
  {
   "cell_type": "markdown",
   "metadata": {},
   "source": [
    "### 3.8 Kurtosis"
   ]
  },
  {
   "cell_type": "code",
   "execution_count": 44,
   "metadata": {},
   "outputs": [
    {
     "data": {
      "text/plain": [
       "2.02"
      ]
     },
     "execution_count": 44,
     "metadata": {},
     "output_type": "execute_result"
    }
   ],
   "source": [
    "exc = distance_object_to_discover.kurtosis(2)\n",
    "exc"
   ]
  },
  {
   "cell_type": "markdown",
   "metadata": {},
   "source": [
    "# 4. Graphs"
   ]
  },
  {
   "cell_type": "markdown",
   "metadata": {},
   "source": [
    "### 4.1 Probability mass function (PMF)"
   ]
  },
  {
   "cell_type": "code",
   "execution_count": 57,
   "metadata": {},
   "outputs": [
    {
     "data": {
      "image/png": "[encoded data removed]",
      "text/plain": [
       "<Figure size 640x480 with 1 Axes>"
      ]
     },
     "metadata": {},
     "output_type": "display_data"
    }
   ],
   "source": [
    "x = distance_object_to_discover.value\n",
    "y = distance_object_to_discover.probability\n",
    "plt.plot(x, y, 'bo', ms=4)\n",
    "plt.vlines(x, 0, y, colors='b', lw=3)\n",
    "plt.xlabel('X')\n",
    "plt.ylabel('P(X)')\n",
    "plt.show()"
   ]
  },
  {
   "cell_type": "markdown",
   "metadata": {},
   "source": [
    "### 4.3 Cumulative Distribution Function"
   ]
  },
  {
   "cell_type": "code",
   "execution_count": 47,
   "metadata": {},
   "outputs": [
    {
     "data": {
      "image/png": "[encoded data removed]",
      "text/plain": [
       "<Figure size 640x480 with 1 Axes>"
      ]
     },
     "metadata": {},
     "output_type": "display_data"
    }
   ],
   "source": [
    "cdf = distance_object_to_discover.cdf()\n",
    "plt.plot(cdf[0], cdf[1])\n",
    "plt.xlabel('X')\n",
    "plt.ylabel('F(X)')\n",
    "plt.show()"
   ]
  }
 ],
 "metadata": {
  "kernelspec": {
   "display_name": "Python 3",
   "language": "python",
   "name": "python3"
  },
  "language_info": {
   "codemirror_mode": {
    "name": "ipython",
    "version": 3
   },
   "file_extension": ".py",
   "mimetype": "text/x-python",
   "name": "python",
   "nbconvert_exporter": "python",
   "pygments_lexer": "ipython3",
   "version": "3.11.4"
  }
 },
 "nbformat": 4,
 "nbformat_minor": 2
}
